{
 "cells": [
  {
   "cell_type": "code",
   "execution_count": 25,
   "metadata": {
    "collapsed": true
   },
   "outputs": [],
   "source": [
    "#Part 3: Twitter Application Development\n",
    "\n",
    "#Team Members:\n",
    "#Anant Gupta\n",
    "#Jayant Solanki"
   ]
  },
  {
   "cell_type": "code",
   "execution_count": 2,
   "metadata": {},
   "outputs": [
    {
     "name": "stderr",
     "output_type": "stream",
     "text": [
      "Warning message:\n",
      "\"package 'maptools' was built under R version 3.4.3\"Loading required package: sp\n",
      "Warning message:\n",
      "\"package 'sp' was built under R version 3.4.3\"Checking rgeos availability: FALSE\n",
      " \tNote: when rgeos is not available, polygon geometry \tcomputations in maptools depend on gpclib,\n",
      " \twhich has a restricted licence. It is disabled by default;\n",
      " \tto enable gpclib, type gpclibPermit()\n",
      "Warning message:\n",
      "\"package 'twitteR' was built under R version 3.4.3\"Warning message:\n",
      "\"package 'ggplot2' was built under R version 3.4.3\"Warning message:\n",
      "\"package 'ggmap' was built under R version 3.4.3\"Warning message:\n",
      "\"package 'mapdata' was built under R version 3.4.3\""
     ]
    }
   ],
   "source": [
    "library(maptools)\n",
    "library(twitteR)\n",
    "library(ggplot2)\n",
    "library('ggmap')\n",
    "library(maps)\n",
    "library(mapdata)"
   ]
  },
  {
   "cell_type": "code",
   "execution_count": 3,
   "metadata": {},
   "outputs": [
    {
     "name": "stdout",
     "output_type": "stream",
     "text": [
      "[1] \"Using direct authentication\"\n"
     ]
    }
   ],
   "source": [
    "#Here we are setting up the twitter api for use\n",
    "api_key <- \"M3uDdeL5NzbjfdBGVtL5r9PZu\" \n",
    "api_secret <- \"yF3yQnM05yuZgVSDKsaMWePs3M93f7XQh6PQHOQazyytvlMzSM\" \n",
    "token <- \"417187736-o3vz5smd7Y50QIfPxVpWdKTTA645OwRRDJhfRZBU\" \n",
    "token_secret <- \"x7IbwZMcIgl29ee5uYbaHfOf5VUQh2e0rkbNFasTjk5Mq\"\n",
    "setup_twitter_oauth(api_key, api_secret, token, token_secret)"
   ]
  },
  {
   "cell_type": "code",
   "execution_count": 14,
   "metadata": {
    "collapsed": true
   },
   "outputs": [],
   "source": [
    "# Here we are collecting the tweet having any of these keywords \"flu OR #flu OR influenza OR #Influenza OR fever OR #fluseason\"\n",
    "# Geocode argument is used by passing the longitude and latitude values for the centre of the US and the radius value as 3881 miles to cover the entire reagon of US\n",
    "tweets <- searchTwitter(\"flu OR #flu OR influenza OR #Influenza OR fever OR #fluseason\", n = 1000, geocode = '42.877742,-97.380979,3881mi',since=\"2018-02-03\", lang = \"en\")\n",
    "tweets_df <-twListToDF(tweets)\n",
    "# We are saving the tweets collected in a csv file\n",
    "#write.csv(tweets_df, \"C:/Users/anu21/Anant/Google Drive/MASTERS/Courses/Spring 2018/DIC/Final Twitter Data/RawTweets.csv\")"
   ]
  },
  {
   "cell_type": "code",
   "execution_count": 12,
   "metadata": {
    "collapsed": true
   },
   "outputs": [],
   "source": [
    "# Here we are getting the finding the unique screen names and then looking up for the corresponding profile using lookupUsers function\n",
    "# After geting the users we are cleaning the result to remove any values that might create discrepancy\n",
    "# Finally we are saving the locations in a csv file\n",
    "screenNames <- unique(tweets_df$screenName)\n",
    "screenNames <- unique(tweets_df$screenName)\n",
    "userDF <- twListToDF(lookupUsers(screenNames))\n",
    "screenNamedf <- data.frame(userDF$screenName,userDF$location)\n",
    "colnames(screenNamedf) <- c(\"ScreenName\",\"Location\")\n",
    "screenNamedf <- na.omit(screenNamedf)\n",
    "screenNamedf <- screenNamedf[length(screenNamedf$Location) != 0,]\n",
    "screenNamedf <- screenNamedf[screenNamedf$Location != \" \",]\n",
    "screenNamedf <- screenNamedf[screenNamedf$Location != \"\",]\n",
    "screenNamedf <- screenNamedf[screenNamedf$Location != \"   \",]\n",
    "#write.csv(screenNamedf, paste(\"C:/Users/anu21/Anant/Google Drive/MASTERS/Courses/Spring 2018/DIC/Final Twitter Data/FinalData.csv\"))"
   ]
  },
  {
   "cell_type": "code",
   "execution_count": 17,
   "metadata": {},
   "outputs": [
    {
     "name": "stderr",
     "output_type": "stream",
     "text": [
      "Information from URL : http://maps.googleapis.com/maps/api/geocode/json?address=ohio--chicago--california&sensor=false\n",
      "Information from URL : http://maps.googleapis.com/maps/api/geocode/json?address=Indianapolis&sensor=false\n",
      "Information from URL : http://maps.googleapis.com/maps/api/geocode/json?address=United%20States&sensor=false\n",
      "Information from URL : http://maps.googleapis.com/maps/api/geocode/json?address=New%20Hampshire%20/%20Vermont&sensor=false\n",
      "Information from URL : http://maps.googleapis.com/maps/api/geocode/json?address=California&sensor=false\n",
      "Information from URL : http://maps.googleapis.com/maps/api/geocode/json?address=Circle%20Pines,%20MN%20USA%20%3Ced%3E%3CU+00A0%3E%3CU+00BC%3E%3Ced%3E%3CU+00B7%3E%3CU+00BA%3E%3Ced%3E%3CU+00A0%3E%3CU+00BC%3E%3Ced%3E%3CU+00B7%3E%3CU+00B8%3E&sensor=false\n",
      "Warning message:\n",
      "\"geocode failed with status ZERO_RESULTS, location = \"Circle Pines, MN USA <ed><U+00A0><U+00BC><ed><U+00B7><U+00BA><ed><U+00A0><U+00BC><ed><U+00B7><U+00B8>\"\"Information from URL : http://maps.googleapis.com/maps/api/geocode/json?address=Naperville,%20IL&sensor=false\n",
      "Information from URL : http://maps.googleapis.com/maps/api/geocode/json?address=Canada&sensor=false\n",
      "Information from URL : http://maps.googleapis.com/maps/api/geocode/json?address=Maryland&sensor=false\n",
      "Information from URL : http://maps.googleapis.com/maps/api/geocode/json?address=Grays,%20Essex%20,%20UK&sensor=false\n",
      ".Information from URL : http://maps.googleapis.com/maps/api/geocode/json?address=lincolnshire&sensor=false\n",
      ".Information from URL : http://maps.googleapis.com/maps/api/geocode/json?address=Orlando,%20FL&sensor=false\n",
      ".Information from URL : http://maps.googleapis.com/maps/api/geocode/json?address=London&sensor=false\n",
      ".Information from URL : http://maps.googleapis.com/maps/api/geocode/json?address=New%20York&sensor=false\n",
      ".Information from URL : http://maps.googleapis.com/maps/api/geocode/json?address=Toronto,%20Ontario&sensor=false\n"
     ]
    }
   ],
   "source": [
    "#Here we are loading the csv file saved earlier which has the Location details and use the geocode function to get the latitude\n",
    "# and longitude values for each tweets. Here we have loaded only few location to save time.\n",
    "# Finally all the Long and Lat values were saved in a csv file and the process was repeated, since we can get only 2.5k geo-\n",
    "#location per day\n",
    "path <- \"C:/Users/anu21/Anant/Google Drive/MASTERS/Courses/Spring 2018/DIC/Final Twitter Data/FinalData.csv\"\n",
    "plot <- read.csv(file=path,sep=\",\")\n",
    "geocode <- geocode(as.character(plot$Location[1:15]))\n",
    "plotPoints <- data.frame(geocode)\n",
    "plotPoints <- na.omit(plotPoints)\n",
    "#write.csv(plotPoints, \"C:/Users/anu21/Anant/Google Drive/MASTERS/Courses/Spring 2018/DIC/Final Twitter Data/Lon_Lat.csv\")"
   ]
  },
  {
   "cell_type": "code",
   "execution_count": 22,
   "metadata": {
    "collapsed": true
   },
   "outputs": [],
   "source": [
    "# Here we are loading the csv file which contains the longitude and latitude values of all the tweets\n",
    "# And then we are using the latlong2state function to get the state name from the lon-lat values\n",
    "path <- \"C:/Users/anu21/Anant/Google Drive/MASTERS/Courses/Spring 2018/DIC/Final Twitter Data/Lon_Lat.csv\"\n",
    "plot <- read.csv(file=path,sep=\",\")\n",
    "plot <- data.frame(plot$lon,plot$lat)\n",
    "\n",
    "latlong2state <- function(pointsDF) {\n",
    "  # Prepare SpatialPolygons object with one SpatialPolygon\n",
    "  # per state (plus DC, minus HI & AK)\n",
    "  states <- map('state', fill=TRUE, col=\"transparent\", plot=FALSE)\n",
    "  IDs <- sapply(strsplit(states$names, \":\"), function(x) x[1])\n",
    "  states_sp <- map2SpatialPolygons(states, IDs=IDs,\n",
    "                                   proj4string=CRS(\"+proj=longlat +datum=wgs84\"))\n",
    "  \n",
    "  # Convert pointsDF to a SpatialPoints object \n",
    "  pointsSP <- SpatialPoints(pointsDF, \n",
    "                            proj4string=CRS(\"+proj=longlat +datum=wgs84\"))\n",
    "  \n",
    "  # Use 'over' to get _indices_ of the Polygons object containing each point \n",
    "  indices <- over(pointsSP, states_sp)\n",
    "  \n",
    "  # Return the state names of the Polygons object containing each point\n",
    "  stateNames <- sapply(states_sp@polygons, function(x) x@ID)\n",
    "  stateNames[indices]\n",
    "}\n",
    "                       \n",
    "state_name <- latlong2state(plot)\n",
    "state_name <- na.omit(state_name)"
   ]
  },
  {
   "cell_type": "code",
   "execution_count": 19,
   "metadata": {},
   "outputs": [
    {
     "data": {
      "text/html": [
       "<table>\n",
       "<thead><tr><th scope=col>state_name</th><th scope=col>Freq</th></tr></thead>\n",
       "<tbody>\n",
       "\t<tr><td>alabama             </td><td> 21                 </td></tr>\n",
       "\t<tr><td>arizona             </td><td> 11                 </td></tr>\n",
       "\t<tr><td>arkansas            </td><td> 12                 </td></tr>\n",
       "\t<tr><td>california          </td><td> 73                 </td></tr>\n",
       "\t<tr><td>colorado            </td><td> 29                 </td></tr>\n",
       "\t<tr><td>connecticut         </td><td> 23                 </td></tr>\n",
       "\t<tr><td>delaware            </td><td>  5                 </td></tr>\n",
       "\t<tr><td>district of columbia</td><td> 36                 </td></tr>\n",
       "\t<tr><td>florida             </td><td> 75                 </td></tr>\n",
       "\t<tr><td>georgia             </td><td> 69                 </td></tr>\n",
       "\t<tr><td>idaho               </td><td>  1                 </td></tr>\n",
       "\t<tr><td>illinois            </td><td> 76                 </td></tr>\n",
       "\t<tr><td>indiana             </td><td> 19                 </td></tr>\n",
       "\t<tr><td>iowa                </td><td>  7                 </td></tr>\n",
       "\t<tr><td>kansas              </td><td>161                 </td></tr>\n",
       "\t<tr><td>kentucky            </td><td> 23                 </td></tr>\n",
       "\t<tr><td>louisiana           </td><td>  9                 </td></tr>\n",
       "\t<tr><td>maine               </td><td>  5                 </td></tr>\n",
       "\t<tr><td>maryland            </td><td> 36                 </td></tr>\n",
       "\t<tr><td>massachusetts       </td><td> 44                 </td></tr>\n",
       "\t<tr><td>michigan            </td><td> 29                 </td></tr>\n",
       "\t<tr><td>minnesota           </td><td> 25                 </td></tr>\n",
       "\t<tr><td>mississippi         </td><td> 11                 </td></tr>\n",
       "\t<tr><td>missouri            </td><td> 35                 </td></tr>\n",
       "\t<tr><td>montana             </td><td>  1                 </td></tr>\n",
       "\t<tr><td>nebraska            </td><td>  8                 </td></tr>\n",
       "\t<tr><td>nevada              </td><td>  7                 </td></tr>\n",
       "\t<tr><td>new hampshire       </td><td>  7                 </td></tr>\n",
       "\t<tr><td>new jersey          </td><td> 37                 </td></tr>\n",
       "\t<tr><td>new mexico          </td><td> 10                 </td></tr>\n",
       "\t<tr><td>new york            </td><td> 94                 </td></tr>\n",
       "\t<tr><td>north carolina      </td><td> 53                 </td></tr>\n",
       "\t<tr><td>north dakota        </td><td>  1                 </td></tr>\n",
       "\t<tr><td>ohio                </td><td> 49                 </td></tr>\n",
       "\t<tr><td>oklahoma            </td><td> 29                 </td></tr>\n",
       "\t<tr><td>oregon              </td><td> 12                 </td></tr>\n",
       "\t<tr><td>pennsylvania        </td><td> 91                 </td></tr>\n",
       "\t<tr><td>rhode island        </td><td>  9                 </td></tr>\n",
       "\t<tr><td>south carolina      </td><td> 15                 </td></tr>\n",
       "\t<tr><td>tennessee           </td><td> 42                 </td></tr>\n",
       "\t<tr><td>texas               </td><td> 84                 </td></tr>\n",
       "\t<tr><td>utah                </td><td>  8                 </td></tr>\n",
       "\t<tr><td>vermont             </td><td>  1                 </td></tr>\n",
       "\t<tr><td>virginia            </td><td> 33                 </td></tr>\n",
       "\t<tr><td>washington          </td><td>  9                 </td></tr>\n",
       "\t<tr><td>west virginia       </td><td>  2                 </td></tr>\n",
       "\t<tr><td>wisconsin           </td><td> 35                 </td></tr>\n",
       "\t<tr><td>wyoming             </td><td>  3                 </td></tr>\n",
       "</tbody>\n",
       "</table>\n"
      ],
      "text/latex": [
       "\\begin{tabular}{r|ll}\n",
       " state\\_name & Freq\\\\\n",
       "\\hline\n",
       "\t alabama              &  21                 \\\\\n",
       "\t arizona              &  11                 \\\\\n",
       "\t arkansas             &  12                 \\\\\n",
       "\t california           &  73                 \\\\\n",
       "\t colorado             &  29                 \\\\\n",
       "\t connecticut          &  23                 \\\\\n",
       "\t delaware             &   5                 \\\\\n",
       "\t district of columbia &  36                 \\\\\n",
       "\t florida              &  75                 \\\\\n",
       "\t georgia              &  69                 \\\\\n",
       "\t idaho                &   1                 \\\\\n",
       "\t illinois             &  76                 \\\\\n",
       "\t indiana              &  19                 \\\\\n",
       "\t iowa                 &   7                 \\\\\n",
       "\t kansas               & 161                 \\\\\n",
       "\t kentucky             &  23                 \\\\\n",
       "\t louisiana            &   9                 \\\\\n",
       "\t maine                &   5                 \\\\\n",
       "\t maryland             &  36                 \\\\\n",
       "\t massachusetts        &  44                 \\\\\n",
       "\t michigan             &  29                 \\\\\n",
       "\t minnesota            &  25                 \\\\\n",
       "\t mississippi          &  11                 \\\\\n",
       "\t missouri             &  35                 \\\\\n",
       "\t montana              &   1                 \\\\\n",
       "\t nebraska             &   8                 \\\\\n",
       "\t nevada               &   7                 \\\\\n",
       "\t new hampshire        &   7                 \\\\\n",
       "\t new jersey           &  37                 \\\\\n",
       "\t new mexico           &  10                 \\\\\n",
       "\t new york             &  94                 \\\\\n",
       "\t north carolina       &  53                 \\\\\n",
       "\t north dakota         &   1                 \\\\\n",
       "\t ohio                 &  49                 \\\\\n",
       "\t oklahoma             &  29                 \\\\\n",
       "\t oregon               &  12                 \\\\\n",
       "\t pennsylvania         &  91                 \\\\\n",
       "\t rhode island         &   9                 \\\\\n",
       "\t south carolina       &  15                 \\\\\n",
       "\t tennessee            &  42                 \\\\\n",
       "\t texas                &  84                 \\\\\n",
       "\t utah                 &   8                 \\\\\n",
       "\t vermont              &   1                 \\\\\n",
       "\t virginia             &  33                 \\\\\n",
       "\t washington           &   9                 \\\\\n",
       "\t west virginia        &   2                 \\\\\n",
       "\t wisconsin            &  35                 \\\\\n",
       "\t wyoming              &   3                 \\\\\n",
       "\\end{tabular}\n"
      ],
      "text/markdown": [
       "\n",
       "state_name | Freq | \n",
       "|---|---|---|---|---|---|---|---|---|---|---|---|---|---|---|---|---|---|---|---|---|---|---|---|---|---|---|---|---|---|---|---|---|---|---|---|---|---|---|---|---|---|---|---|---|---|---|---|\n",
       "| alabama              |  21                  | \n",
       "| arizona              |  11                  | \n",
       "| arkansas             |  12                  | \n",
       "| california           |  73                  | \n",
       "| colorado             |  29                  | \n",
       "| connecticut          |  23                  | \n",
       "| delaware             |   5                  | \n",
       "| district of columbia |  36                  | \n",
       "| florida              |  75                  | \n",
       "| georgia              |  69                  | \n",
       "| idaho                |   1                  | \n",
       "| illinois             |  76                  | \n",
       "| indiana              |  19                  | \n",
       "| iowa                 |   7                  | \n",
       "| kansas               | 161                  | \n",
       "| kentucky             |  23                  | \n",
       "| louisiana            |   9                  | \n",
       "| maine                |   5                  | \n",
       "| maryland             |  36                  | \n",
       "| massachusetts        |  44                  | \n",
       "| michigan             |  29                  | \n",
       "| minnesota            |  25                  | \n",
       "| mississippi          |  11                  | \n",
       "| missouri             |  35                  | \n",
       "| montana              |   1                  | \n",
       "| nebraska             |   8                  | \n",
       "| nevada               |   7                  | \n",
       "| new hampshire        |   7                  | \n",
       "| new jersey           |  37                  | \n",
       "| new mexico           |  10                  | \n",
       "| new york             |  94                  | \n",
       "| north carolina       |  53                  | \n",
       "| north dakota         |   1                  | \n",
       "| ohio                 |  49                  | \n",
       "| oklahoma             |  29                  | \n",
       "| oregon               |  12                  | \n",
       "| pennsylvania         |  91                  | \n",
       "| rhode island         |   9                  | \n",
       "| south carolina       |  15                  | \n",
       "| tennessee            |  42                  | \n",
       "| texas                |  84                  | \n",
       "| utah                 |   8                  | \n",
       "| vermont              |   1                  | \n",
       "| virginia             |  33                  | \n",
       "| washington           |   9                  | \n",
       "| west virginia        |   2                  | \n",
       "| wisconsin            |  35                  | \n",
       "| wyoming              |   3                  | \n",
       "\n",
       "\n"
      ],
      "text/plain": [
       "   state_name           Freq\n",
       "1  alabama               21 \n",
       "2  arizona               11 \n",
       "3  arkansas              12 \n",
       "4  california            73 \n",
       "5  colorado              29 \n",
       "6  connecticut           23 \n",
       "7  delaware               5 \n",
       "8  district of columbia  36 \n",
       "9  florida               75 \n",
       "10 georgia               69 \n",
       "11 idaho                  1 \n",
       "12 illinois              76 \n",
       "13 indiana               19 \n",
       "14 iowa                   7 \n",
       "15 kansas               161 \n",
       "16 kentucky              23 \n",
       "17 louisiana              9 \n",
       "18 maine                  5 \n",
       "19 maryland              36 \n",
       "20 massachusetts         44 \n",
       "21 michigan              29 \n",
       "22 minnesota             25 \n",
       "23 mississippi           11 \n",
       "24 missouri              35 \n",
       "25 montana                1 \n",
       "26 nebraska               8 \n",
       "27 nevada                 7 \n",
       "28 new hampshire          7 \n",
       "29 new jersey            37 \n",
       "30 new mexico            10 \n",
       "31 new york              94 \n",
       "32 north carolina        53 \n",
       "33 north dakota           1 \n",
       "34 ohio                  49 \n",
       "35 oklahoma              29 \n",
       "36 oregon                12 \n",
       "37 pennsylvania          91 \n",
       "38 rhode island           9 \n",
       "39 south carolina        15 \n",
       "40 tennessee             42 \n",
       "41 texas                 84 \n",
       "42 utah                   8 \n",
       "43 vermont                1 \n",
       "44 virginia              33 \n",
       "45 washington             9 \n",
       "46 west virginia          2 \n",
       "47 wisconsin             35 \n",
       "48 wyoming                3 "
      ]
     },
     "metadata": {},
     "output_type": "display_data"
    }
   ],
   "source": [
    "# Here we use the statenames data and then create a table which shows the frequency of tweets in each state\n",
    "state <- table(state_name)\n",
    "statedata <- as.data.frame(state)\n",
    "statedata"
   ]
  },
  {
   "cell_type": "code",
   "execution_count": 23,
   "metadata": {},
   "outputs": [
    {
     "data": {},
     "metadata": {},
     "output_type": "display_data"
    },
    {
     "data": {
      "image/png": "[encoded data removed]",
      "text/plain": [
       "plot without title"
      ]
     },
     "metadata": {},
     "output_type": "display_data"
    }
   ],
   "source": [
    "# Finally we have all the count of tweets state-wise in statedata. We use this data to plot the map using ggplot and other map functions\n",
    "statedata$region <- tolower(statedata$state_name)\n",
    "states <- map_data(\"state\")\n",
    "map.df <- merge(states,statedata, by=\"region\", all.statedata=T)\n",
    "map.df <- map.df[order(map.df$order),]\n",
    "ggplot(map.df, aes(x=long,y=lat,group=group))+\n",
    "  geom_polygon(aes(fill=Freq))+\n",
    "  geom_path()+ \n",
    "  scale_fill_gradientn(colours=rev(heat.colors(10)),na.value=\"grey90\")+\n",
    "  coord_map()"
   ]
  },
  {
   "cell_type": "code",
   "execution_count": null,
   "metadata": {
    "collapsed": true
   },
   "outputs": [],
   "source": []
  }
 ],
 "metadata": {
  "kernelspec": {
   "display_name": "R",
   "language": "R",
   "name": "ir"
  },
  "language_info": {
   "codemirror_mode": "r",
   "file_extension": ".r",
   "mimetype": "text/x-r-source",
   "name": "R",
   "pygments_lexer": "r",
   "version": "3.4.2"
  }
 },
 "nbformat": 4,
 "nbformat_minor": 2
}
